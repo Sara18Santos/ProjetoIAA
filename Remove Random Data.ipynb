{
 "cells": [
  {
   "cell_type": "code",
   "execution_count": 6,
   "metadata": {},
   "outputs": [
    {
     "name": "stderr",
     "output_type": "stream",
     "text": [
      "C:\\Users\\santo\\AppData\\Local\\Temp\\ipykernel_27156\\2889180046.py:36: FutureWarning: A value is trying to be set on a copy of a DataFrame or Series through chained assignment using an inplace method.\n",
      "The behavior will change in pandas 3.0. This inplace method will never work because the intermediate object on which we are setting values always behaves as a copy.\n",
      "\n",
      "For example, when doing 'df[col].method(value, inplace=True)', try using 'df.method({col: value}, inplace=True)' or df[col] = df[col].method(value) instead, to perform the operation inplace on the original object.\n",
      "\n",
      "\n",
      "  data_filled[column].fillna(data_filled[column].mode()[0], inplace=True)\n",
      "C:\\Users\\santo\\AppData\\Local\\Temp\\ipykernel_27156\\2889180046.py:33: FutureWarning: A value is trying to be set on a copy of a DataFrame or Series through chained assignment using an inplace method.\n",
      "The behavior will change in pandas 3.0. This inplace method will never work because the intermediate object on which we are setting values always behaves as a copy.\n",
      "\n",
      "For example, when doing 'df[col].method(value, inplace=True)', try using 'df.method({col: value}, inplace=True)' or df[col] = df[col].method(value) instead, to perform the operation inplace on the original object.\n",
      "\n",
      "\n",
      "  data_filled[column].fillna(data_filled[column].mean(), inplace=True)\n"
     ]
    },
    {
     "name": "stdout",
     "output_type": "stream",
     "text": [
      "Dataset com 10% de valores faltantes preenchido salvo como: Ficheiros CSV/CVD_missing_10_filled.csv\n",
      "Dataset com 20% de valores faltantes preenchido salvo como: Ficheiros CSV/CVD_missing_20_filled.csv\n"
     ]
    },
    {
     "data": {
      "text/plain": [
       "General_Health                  0\n",
       "Checkup                         0\n",
       "Exercise                        0\n",
       "Heart_Disease                   0\n",
       "Skin_Cancer                     0\n",
       "Other_Cancer                    0\n",
       "Depression                      0\n",
       "Diabetes                        0\n",
       "Arthritis                       0\n",
       "Sex                             0\n",
       "Age_Category                    0\n",
       "Height_(cm)                     0\n",
       "Weight_(kg)                     0\n",
       "BMI                             0\n",
       "Smoking_History                 0\n",
       "Alcohol_Consumption             0\n",
       "Fruit_Consumption               0\n",
       "Green_Vegetables_Consumption    0\n",
       "FriedPotato_Consumption         0\n",
       "dtype: int64"
      ]
     },
     "execution_count": 6,
     "metadata": {},
     "output_type": "execute_result"
    }
   ],
   "source": [
    "import pandas as pd\n",
    "import numpy as np\n",
    "\n",
    "# Carregar o dataset\n",
    "file_path = 'Ficheiros CSV/CVD_cleaned.csv'  # Substitua pelo caminho do ficheiro\n",
    "data = pd.read_csv(file_path)\n",
    "\n",
    "# Copiar o dataset original para evitar alterações diretas\n",
    "data_missing_10 = data.copy()\n",
    "data_missing_20 = data.copy()\n",
    "\n",
    "# Função para remover aleatoriamente uma porcentagem de valores de um dataset\n",
    "def remove_random_values(data, percentage):\n",
    "    data_with_nan = data.copy()\n",
    "    np.random.seed(42)  # Para reprodutibilidade\n",
    "    mask = np.random.rand(*data_with_nan.shape) < (percentage / 100)\n",
    "    data_with_nan[mask] = np.nan\n",
    "    return data_with_nan\n",
    "\n",
    "# Remover 10% e 20% dos valores\n",
    "data_missing_10 = remove_random_values(data_missing_10, 10)\n",
    "data_missing_20 = remove_random_values(data_missing_20, 20)\n",
    "\n",
    "# Estratégias para lidar com valores faltantes\n",
    "# 1. Preencher valores numéricos com a média\n",
    "# 2. Preencher valores categóricos com a moda\n",
    "\n",
    "def handle_missing_values(data):\n",
    "    data_filled = data.copy()\n",
    "    for column in data_filled.columns:\n",
    "        if data_filled[column].dtype in [np.float64, np.int64]:\n",
    "            # Preencher valores numéricos com a média\n",
    "            data_filled[column].fillna(data_filled[column].mean(), inplace=True)\n",
    "        else:\n",
    "            # Preencher valores categóricos com a moda\n",
    "            data_filled[column].fillna(data_filled[column].mode()[0], inplace=True)\n",
    "    return data_filled\n",
    "\n",
    "# Aplicar estratégias aos datasets com valores removidos\n",
    "data_filled_10 = handle_missing_values(data_missing_10)\n",
    "data_filled_20 = handle_missing_values(data_missing_20)\n",
    "\n",
    "# Salvar os datasets resultantes\n",
    "output_file_10 = 'Ficheiros CSV/CVD_missing_10_filled.csv'\n",
    "output_file_20 = 'Ficheiros CSV/CVD_missing_20_filled.csv'\n",
    "data_filled_10.to_csv(output_file_10, index=False)\n",
    "data_filled_20.to_csv(output_file_20, index=False)\n",
    "\n",
    "print(f\"Dataset com 10% de valores faltantes preenchido salvo como: {output_file_10}\")\n",
    "data_filled_10.head()\n",
    "data_filled_10.isnull().sum()\n",
    "\n",
    "print(f\"Dataset com 20% de valores faltantes preenchido salvo como: {output_file_20}\")\n",
    "data_filled_20.head()\n",
    "data_filled_20.isnull().sum()\n",
    "\n"
   ]
  }
 ],
 "metadata": {
  "kernelspec": {
   "display_name": "Python 3",
   "language": "python",
   "name": "python3"
  },
  "language_info": {
   "codemirror_mode": {
    "name": "ipython",
    "version": 3
   },
   "file_extension": ".py",
   "mimetype": "text/x-python",
   "name": "python",
   "nbconvert_exporter": "python",
   "pygments_lexer": "ipython3",
   "version": "3.12.6"
  }
 },
 "nbformat": 4,
 "nbformat_minor": 2
}
